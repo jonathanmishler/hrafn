{
 "cells": [
  {
   "cell_type": "markdown",
   "metadata": {},
   "source": [
    "# Exponential Smoothing"
   ]
  },
  {
   "cell_type": "code",
   "execution_count": 72,
   "metadata": {},
   "outputs": [
    {
     "data": {
      "text/html": [
       "\n",
       "    <div class=\"bk-root\">\n",
       "        <a href=\"https://bokeh.org\" target=\"_blank\" class=\"bk-logo bk-logo-small bk-logo-notebook\"></a>\n",
       "        <span id=\"2948\">Loading BokehJS ...</span>\n",
       "    </div>"
      ]
     },
     "metadata": {},
     "output_type": "display_data"
    },
    {
     "data": {
      "application/javascript": "\n(function(root) {\n  function now() {\n    return new Date();\n  }\n\n  const force = true;\n\n  if (typeof root._bokeh_onload_callbacks === \"undefined\" || force === true) {\n    root._bokeh_onload_callbacks = [];\n    root._bokeh_is_loading = undefined;\n  }\n\n  const JS_MIME_TYPE = 'application/javascript';\n  const HTML_MIME_TYPE = 'text/html';\n  const EXEC_MIME_TYPE = 'application/vnd.bokehjs_exec.v0+json';\n  const CLASS_NAME = 'output_bokeh rendered_html';\n\n  /**\n   * Render data to the DOM node\n   */\n  function render(props, node) {\n    const script = document.createElement(\"script\");\n    node.appendChild(script);\n  }\n\n  /**\n   * Handle when an output is cleared or removed\n   */\n  function handleClearOutput(event, handle) {\n    const cell = handle.cell;\n\n    const id = cell.output_area._bokeh_element_id;\n    const server_id = cell.output_area._bokeh_server_id;\n    // Clean up Bokeh references\n    if (id != null && id in Bokeh.index) {\n      Bokeh.index[id].model.document.clear();\n      delete Bokeh.index[id];\n    }\n\n    if (server_id !== undefined) {\n      // Clean up Bokeh references\n      const cmd_clean = \"from bokeh.io.state import curstate; print(curstate().uuid_to_server['\" + server_id + \"'].get_sessions()[0].document.roots[0]._id)\";\n      cell.notebook.kernel.execute(cmd_clean, {\n        iopub: {\n          output: function(msg) {\n            const id = msg.content.text.trim();\n            if (id in Bokeh.index) {\n              Bokeh.index[id].model.document.clear();\n              delete Bokeh.index[id];\n            }\n          }\n        }\n      });\n      // Destroy server and session\n      const cmd_destroy = \"import bokeh.io.notebook as ion; ion.destroy_server('\" + server_id + \"')\";\n      cell.notebook.kernel.execute(cmd_destroy);\n    }\n  }\n\n  /**\n   * Handle when a new output is added\n   */\n  function handleAddOutput(event, handle) {\n    const output_area = handle.output_area;\n    const output = handle.output;\n\n    // limit handleAddOutput to display_data with EXEC_MIME_TYPE content only\n    if ((output.output_type != \"display_data\") || (!Object.prototype.hasOwnProperty.call(output.data, EXEC_MIME_TYPE))) {\n      return\n    }\n\n    const toinsert = output_area.element.find(\".\" + CLASS_NAME.split(' ')[0]);\n\n    if (output.metadata[EXEC_MIME_TYPE][\"id\"] !== undefined) {\n      toinsert[toinsert.length - 1].firstChild.textContent = output.data[JS_MIME_TYPE];\n      // store reference to embed id on output_area\n      output_area._bokeh_element_id = output.metadata[EXEC_MIME_TYPE][\"id\"];\n    }\n    if (output.metadata[EXEC_MIME_TYPE][\"server_id\"] !== undefined) {\n      const bk_div = document.createElement(\"div\");\n      bk_div.innerHTML = output.data[HTML_MIME_TYPE];\n      const script_attrs = bk_div.children[0].attributes;\n      for (let i = 0; i < script_attrs.length; i++) {\n        toinsert[toinsert.length - 1].firstChild.setAttribute(script_attrs[i].name, script_attrs[i].value);\n        toinsert[toinsert.length - 1].firstChild.textContent = bk_div.children[0].textContent\n      }\n      // store reference to server id on output_area\n      output_area._bokeh_server_id = output.metadata[EXEC_MIME_TYPE][\"server_id\"];\n    }\n  }\n\n  function register_renderer(events, OutputArea) {\n\n    function append_mime(data, metadata, element) {\n      // create a DOM node to render to\n      const toinsert = this.create_output_subarea(\n        metadata,\n        CLASS_NAME,\n        EXEC_MIME_TYPE\n      );\n      this.keyboard_manager.register_events(toinsert);\n      // Render to node\n      const props = {data: data, metadata: metadata[EXEC_MIME_TYPE]};\n      render(props, toinsert[toinsert.length - 1]);\n      element.append(toinsert);\n      return toinsert\n    }\n\n    /* Handle when an output is cleared or removed */\n    events.on('clear_output.CodeCell', handleClearOutput);\n    events.on('delete.Cell', handleClearOutput);\n\n    /* Handle when a new output is added */\n    events.on('output_added.OutputArea', handleAddOutput);\n\n    /**\n     * Register the mime type and append_mime function with output_area\n     */\n    OutputArea.prototype.register_mime_type(EXEC_MIME_TYPE, append_mime, {\n      /* Is output safe? */\n      safe: true,\n      /* Index of renderer in `output_area.display_order` */\n      index: 0\n    });\n  }\n\n  // register the mime type if in Jupyter Notebook environment and previously unregistered\n  if (root.Jupyter !== undefined) {\n    const events = require('base/js/events');\n    const OutputArea = require('notebook/js/outputarea').OutputArea;\n\n    if (OutputArea.prototype.mime_types().indexOf(EXEC_MIME_TYPE) == -1) {\n      register_renderer(events, OutputArea);\n    }\n  }\n\n  \n  if (typeof (root._bokeh_timeout) === \"undefined\" || force === true) {\n    root._bokeh_timeout = Date.now() + 5000;\n    root._bokeh_failed_load = false;\n  }\n\n  const NB_LOAD_WARNING = {'data': {'text/html':\n     \"<div style='background-color: #fdd'>\\n\"+\n     \"<p>\\n\"+\n     \"BokehJS does not appear to have successfully loaded. If loading BokehJS from CDN, this \\n\"+\n     \"may be due to a slow or bad network connection. Possible fixes:\\n\"+\n     \"</p>\\n\"+\n     \"<ul>\\n\"+\n     \"<li>re-rerun `output_notebook()` to attempt to load from CDN again, or</li>\\n\"+\n     \"<li>use INLINE resources instead, as so:</li>\\n\"+\n     \"</ul>\\n\"+\n     \"<code>\\n\"+\n     \"from bokeh.resources import INLINE\\n\"+\n     \"output_notebook(resources=INLINE)\\n\"+\n     \"</code>\\n\"+\n     \"</div>\"}};\n\n  function display_loaded() {\n    const el = document.getElementById(\"2948\");\n    if (el != null) {\n      el.textContent = \"BokehJS is loading...\";\n    }\n    if (root.Bokeh !== undefined) {\n      if (el != null) {\n        el.textContent = \"BokehJS \" + root.Bokeh.version + \" successfully loaded.\";\n      }\n    } else if (Date.now() < root._bokeh_timeout) {\n      setTimeout(display_loaded, 100)\n    }\n  }\n\n\n  function run_callbacks() {\n    try {\n      root._bokeh_onload_callbacks.forEach(function(callback) {\n        if (callback != null)\n          callback();\n      });\n    } finally {\n      delete root._bokeh_onload_callbacks\n    }\n    console.debug(\"Bokeh: all callbacks have finished\");\n  }\n\n  function load_libs(css_urls, js_urls, callback) {\n    if (css_urls == null) css_urls = [];\n    if (js_urls == null) js_urls = [];\n\n    root._bokeh_onload_callbacks.push(callback);\n    if (root._bokeh_is_loading > 0) {\n      console.debug(\"Bokeh: BokehJS is being loaded, scheduling callback at\", now());\n      return null;\n    }\n    if (js_urls == null || js_urls.length === 0) {\n      run_callbacks();\n      return null;\n    }\n    console.debug(\"Bokeh: BokehJS not loaded, scheduling load and callback at\", now());\n    root._bokeh_is_loading = css_urls.length + js_urls.length;\n\n    function on_load() {\n      root._bokeh_is_loading--;\n      if (root._bokeh_is_loading === 0) {\n        console.debug(\"Bokeh: all BokehJS libraries/stylesheets loaded\");\n        run_callbacks()\n      }\n    }\n\n    function on_error(url) {\n      console.error(\"failed to load \" + url);\n    }\n\n    for (let i = 0; i < css_urls.length; i++) {\n      const url = css_urls[i];\n      const element = document.createElement(\"link\");\n      element.onload = on_load;\n      element.onerror = on_error.bind(null, url);\n      element.rel = \"stylesheet\";\n      element.type = \"text/css\";\n      element.href = url;\n      console.debug(\"Bokeh: injecting link tag for BokehJS stylesheet: \", url);\n      document.body.appendChild(element);\n    }\n\n    for (let i = 0; i < js_urls.length; i++) {\n      const url = js_urls[i];\n      const element = document.createElement('script');\n      element.onload = on_load;\n      element.onerror = on_error.bind(null, url);\n      element.async = false;\n      element.src = url;\n      console.debug(\"Bokeh: injecting script tag for BokehJS library: \", url);\n      document.head.appendChild(element);\n    }\n  };\n\n  function inject_raw_css(css) {\n    const element = document.createElement(\"style\");\n    element.appendChild(document.createTextNode(css));\n    document.body.appendChild(element);\n  }\n\n  \n  const js_urls = [\"https://cdn.bokeh.org/bokeh/release/bokeh-2.4.1.min.js\", \"https://cdn.bokeh.org/bokeh/release/bokeh-gl-2.4.1.min.js\", \"https://cdn.bokeh.org/bokeh/release/bokeh-widgets-2.4.1.min.js\", \"https://cdn.bokeh.org/bokeh/release/bokeh-tables-2.4.1.min.js\", \"https://cdn.bokeh.org/bokeh/release/bokeh-mathjax-2.4.1.min.js\"];\n  const css_urls = [];\n  \n\n  const inline_js = [\n    function(Bokeh) {\n      Bokeh.set_log_level(\"info\");\n    },\n    function(Bokeh) {\n    \n    \n    }\n  ];\n\n  function run_inline_js() {\n    \n    if (root.Bokeh !== undefined || force === true) {\n      \n    for (let i = 0; i < inline_js.length; i++) {\n      inline_js[i].call(root, root.Bokeh);\n    }\n    if (force === true) {\n        display_loaded();\n      }} else if (Date.now() < root._bokeh_timeout) {\n      setTimeout(run_inline_js, 100);\n    } else if (!root._bokeh_failed_load) {\n      console.log(\"Bokeh: BokehJS failed to load within specified timeout.\");\n      root._bokeh_failed_load = true;\n    } else if (force !== true) {\n      const cell = $(document.getElementById(\"2948\")).parents('.cell').data().cell;\n      cell.output_area.append_execute_result(NB_LOAD_WARNING)\n    }\n\n  }\n\n  if (root._bokeh_is_loading === 0) {\n    console.debug(\"Bokeh: BokehJS loaded, going straight to plotting\");\n    run_inline_js();\n  } else {\n    load_libs(css_urls, js_urls, function() {\n      console.debug(\"Bokeh: BokehJS plotting callback run at\", now());\n      run_inline_js();\n    });\n  }\n}(window));",
      "application/vnd.bokehjs_load.v0+json": ""
     },
     "metadata": {},
     "output_type": "display_data"
    }
   ],
   "source": [
    "from datetime import datetime\n",
    "import pandas as pd\n",
    "from bokeh.plotting import figure, show \n",
    "from bokeh.io import output_notebook, curdoc\n",
    "from bokeh.layouts import layout, column, row\n",
    "from bokeh.models import DatetimeTickFormatter, HoverTool, Band, CDSView, ColumnDataSource, IndexFilter, FactorRange, Whisker, TableColumn, DataTable, LinearAxis, Range1d\n",
    "from bokeh.palettes import Dark2\n",
    "\n",
    "output_notebook()\n"
   ]
  },
  {
   "cell_type": "markdown",
   "metadata": {},
   "source": [
    "## Texas Oil and Gas Production\n",
    "Texas Statewide monthly data for oil and gas production from Jan 1993 to Aug 2021 taken from the Texas Railroad Commission's [Production Data Query System](http://webapps.rrc.state.tx.us/PDQ/home.do)."
   ]
  },
  {
   "cell_type": "code",
   "execution_count": 47,
   "metadata": {},
   "outputs": [
    {
     "data": {
      "text/html": [
       "<div>\n",
       "<style scoped>\n",
       "    .dataframe tbody tr th:only-of-type {\n",
       "        vertical-align: middle;\n",
       "    }\n",
       "\n",
       "    .dataframe tbody tr th {\n",
       "        vertical-align: top;\n",
       "    }\n",
       "\n",
       "    .dataframe thead th {\n",
       "        text-align: right;\n",
       "    }\n",
       "</style>\n",
       "<table border=\"1\" class=\"dataframe\">\n",
       "  <thead>\n",
       "    <tr style=\"text-align: right;\">\n",
       "      <th></th>\n",
       "      <th>Oil (BBL)</th>\n",
       "      <th>Casinghead (MCF)</th>\n",
       "      <th>GW Gas (MCF)</th>\n",
       "      <th>Condensate (BBL)</th>\n",
       "    </tr>\n",
       "    <tr>\n",
       "      <th>Date</th>\n",
       "      <th></th>\n",
       "      <th></th>\n",
       "      <th></th>\n",
       "      <th></th>\n",
       "    </tr>\n",
       "  </thead>\n",
       "  <tbody>\n",
       "    <tr>\n",
       "      <th>1993-01-01</th>\n",
       "      <td>50411018</td>\n",
       "      <td>109239999</td>\n",
       "      <td>368487532</td>\n",
       "      <td>2868768</td>\n",
       "    </tr>\n",
       "    <tr>\n",
       "      <th>1993-02-01</th>\n",
       "      <td>45634703</td>\n",
       "      <td>100315311</td>\n",
       "      <td>333803989</td>\n",
       "      <td>2635625</td>\n",
       "    </tr>\n",
       "    <tr>\n",
       "      <th>1993-03-01</th>\n",
       "      <td>50288158</td>\n",
       "      <td>112470507</td>\n",
       "      <td>370855741</td>\n",
       "      <td>2912724</td>\n",
       "    </tr>\n",
       "    <tr>\n",
       "      <th>1993-04-01</th>\n",
       "      <td>48194498</td>\n",
       "      <td>108833718</td>\n",
       "      <td>357648783</td>\n",
       "      <td>2829663</td>\n",
       "    </tr>\n",
       "    <tr>\n",
       "      <th>1993-05-01</th>\n",
       "      <td>49330060</td>\n",
       "      <td>111948168</td>\n",
       "      <td>364968117</td>\n",
       "      <td>2961272</td>\n",
       "    </tr>\n",
       "  </tbody>\n",
       "</table>\n",
       "</div>"
      ],
      "text/plain": [
       "            Oil (BBL)  Casinghead (MCF)  GW Gas (MCF)  Condensate (BBL)\n",
       "Date                                                                   \n",
       "1993-01-01   50411018         109239999     368487532           2868768\n",
       "1993-02-01   45634703         100315311     333803989           2635625\n",
       "1993-03-01   50288158         112470507     370855741           2912724\n",
       "1993-04-01   48194498         108833718     357648783           2829663\n",
       "1993-05-01   49330060         111948168     364968117           2961272"
      ]
     },
     "execution_count": 47,
     "metadata": {},
     "output_type": "execute_result"
    }
   ],
   "source": [
    "col_dtypes={\n",
    "    'Oil (BBL)': \"Int64\",\n",
    "    'Casinghead (MCF)': \"Int64\",\n",
    "    'GW Gas (MCF)': \"Int64\",\n",
    "    'Condensate (BBL)': \"Int64\"\n",
    "}\n",
    "df = pd.read_csv(\"oil and gas producion texas.csv\", thousands=\",\")\n",
    "df[\"Date\"] = pd.to_datetime(df[\"Date\"], format=\"%b-%y\")\n",
    "df = df.set_index('Date')\n",
    "df.head()"
   ]
  },
  {
   "cell_type": "markdown",
   "metadata": {},
   "source": [
    "### Definitions\n",
    "Taken from the Texas Railroad Commission Website [Glossary of Terms](http://webapps.rrc.state.tx.us/PDQ/help/prod_gloss.html#head_C)\n",
    "\n",
    "**Oil Well**<br>\n",
    "Any well which produces one barrel or more crude petroleum oil to each 100,000 cubic feet of natural gas.\n",
    "\n",
    "**Casinghead Gas**<br>\n",
    "Gas found naturally in oil and produced with the oil.\n",
    "\n",
    "**Gas Well**<br>\n",
    "Any well:\n",
    "1. which produces natural gas not associated or blended with crude petroleum oil at the time of production;\n",
    "2. which produces more than 100,000 cubic feet of natural gas to each barrel of crude petroleum oil from the same producing horizon; or\n",
    "3. which produces natural gas from a formation or producing horizon productive of gas only encountered in a wellbore through which crude petroleum oil also is produced through the inside of another string of casing or tubing. A well which produces hydrocarbon liquids, a part of which is formed by a condensation from a gas phase and a part of which is crude petroleum oil, shall be classified as a gas well unless there is produced one barrel or more of crude petroleum oil per 100,000 cubic feet of natural gas; and that the term \"crude petroleum oil\" shall not be construed to mean any liquid hydrocarbon mixture or portion thereof which is not in the liquid phase in the reservoir, removed from the reservoir in such liquid phase, and obtained at the surface as such.\n",
    "\n",
    "**Condensate**<br>\n",
    "Any liquid hydrocarbon recovered by surface separators from natural gas.\n",
    "\n",
    "**MCF**<br>\n",
    "One thousand cubic feet of natural gas measured at standard pressure and temperature conditions (see \"cubic foot of gas\"). The term is commonly used to express the volume of gas produced, transmitted or consumed.\n",
    "\n",
    "**BBL** <br>\n",
    "Abbreviation for barrel. In the energy industry, a barrel is 42 U.S. gallons measured at 60 ° Fahrenheit."
   ]
  },
  {
   "cell_type": "code",
   "execution_count": 78,
   "metadata": {},
   "outputs": [
    {
     "data": {
      "text/html": [
       "\n",
       "\n",
       "\n",
       "\n",
       "\n",
       "\n",
       "  <div class=\"bk-root\" id=\"ae343fa4-aa8e-4d39-8678-229e86e0190c\" data-root-id=\"4530\"></div>\n"
      ]
     },
     "metadata": {},
     "output_type": "display_data"
    },
    {
     "data": {
      "application/javascript": "(function(root) {\n  function embed_document(root) {\n    \n  const docs_json = {\"243d671b-1133-4617-bc92-d89a96e2aa52\":{\"defs\":[],\"roots\":{\"references\":[{\"attributes\":{\"below\":[{\"id\":\"4541\"}],\"center\":[{\"id\":\"4544\"},{\"id\":\"4548\"},{\"id\":\"4579\"}],\"extra_y_ranges\":{\"mcf\":{\"id\":\"4598\"}},\"height\":400,\"left\":[{\"id\":\"4545\"}],\"renderers\":[{\"id\":\"4567\"},{\"id\":\"4585\"},{\"id\":\"4604\"},{\"id\":\"4624\"}],\"right\":[{\"id\":\"4599\"}],\"sizing_mode\":\"stretch_width\",\"title\":{\"id\":\"4531\"},\"toolbar\":{\"id\":\"4556\"},\"x_range\":{\"id\":\"4533\"},\"x_scale\":{\"id\":\"4537\"},\"y_range\":{\"id\":\"4535\"},\"y_scale\":{\"id\":\"4539\"}},\"id\":\"4530\",\"subtype\":\"Figure\",\"type\":\"Plot\"},{\"attributes\":{\"line_color\":\"#d95f02\",\"line_width\":2,\"x\":{\"field\":\"Date\"},\"y\":{\"field\":\"Condensate (BBL)\"}},\"id\":\"4582\",\"type\":\"Line\"},{\"attributes\":{\"coordinates\":null,\"group\":null,\"text\":\"Texas Statewide Oil and Gas Production (Monthly)\"},\"id\":\"4531\",\"type\":\"Title\"},{\"attributes\":{\"coordinates\":null,\"data_source\":{\"id\":\"4529\"},\"glyph\":{\"id\":\"4564\"},\"group\":null,\"hover_glyph\":null,\"muted_glyph\":{\"id\":\"4566\"},\"nonselection_glyph\":{\"id\":\"4565\"},\"view\":{\"id\":\"4568\"}},\"id\":\"4567\",\"type\":\"GlyphRenderer\"},{\"attributes\":{},\"id\":\"4610\",\"type\":\"BasicTicker\"},{\"attributes\":{\"coordinates\":null,\"formatter\":{\"id\":\"4640\"},\"group\":null,\"major_label_policy\":{\"id\":\"4575\"},\"ticker\":{\"id\":\"4542\"}},\"id\":\"4541\",\"type\":\"LinearAxis\"},{\"attributes\":{\"coordinates\":null,\"group\":null,\"items\":[{\"id\":\"4580\"},{\"id\":\"4597\"},{\"id\":\"4619\"},{\"id\":\"4639\"}],\"location\":\"top_left\"},\"id\":\"4579\",\"type\":\"Legend\"},{\"attributes\":{\"source\":{\"id\":\"4529\"}},\"id\":\"4568\",\"type\":\"CDSView\"},{\"attributes\":{},\"id\":\"4576\",\"type\":\"UnionRenderers\"},{\"attributes\":{},\"id\":\"4572\",\"type\":\"AllLabels\"},{\"attributes\":{\"source\":{\"id\":\"4529\"}},\"id\":\"4586\",\"type\":\"CDSView\"},{\"attributes\":{\"line_color\":\"#7570b3\",\"line_width\":2,\"x\":{\"field\":\"Date\"},\"y\":{\"field\":\"Casinghead (MCF)\"}},\"id\":\"4601\",\"type\":\"Line\"},{\"attributes\":{},\"id\":\"4539\",\"type\":\"LinearScale\"},{\"attributes\":{\"label\":{\"value\":\"Condensate\"},\"renderers\":[{\"id\":\"4585\"}]},\"id\":\"4597\",\"type\":\"LegendItem\"},{\"attributes\":{},\"id\":\"4571\",\"type\":\"BasicTickFormatter\"},{\"attributes\":{},\"id\":\"4542\",\"type\":\"BasicTicker\"},{\"attributes\":{\"data\":{\"Casinghead (MCF)\":{\"__ndarray__\":\"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\",\"dtype\":\"float64\",\"order\":\"little\",\"shape\":[344]},\"Condensate (BBL)\":{\"__ndarray__\":\"mn0eozzzBkD2KFyPwhUFQMYxkj1CTQdAKJzdWiajBkDue9Rfr7AHQCVZh6OrdAZAwono19aPBkDUnLzIBPwGQOgWuhKBCgdAXFX2XRE8CUB6yJQPQRUIQA3eV+VCBQlALA/SU+QQCkD4qSo0EIsHQH3nFyXoTwpA9Gvrp/8MCkCx3T1A96UKQHOdRloqTwlAw35PrFOFCUCdhNIXQs4JQACt+fGX9ghA2ZYBZylZCUDzkCkfgqoJQOyEl+DUBwtA8PeL2ZL1CkBoPXyZKIIIQEZAhSNIZQpA+Z6RCI0gCUBGQfD49s4JQCGtMeiEMAhAJ79FJ0utCEBZayi1F5EIQG6FsBpLuAdAFf4Mb9bgCEC78lmeB7cIQIoGKXgK2QlAFQDjGTSUCkBZ+WUwRiQJQKJe8GlOHgtA2/tUFRoICkBCmUaTi/EKQOqWHeIflglAXhQ98DEYCkDlmgKZnYUJQKvtJvimCQlAfsSvWMOlCkCs/gjDgOUJQPhPN1DgnQtA4UBIFjCBC0Ag8SvWcBEJQH6nyYy3dQtA1Lg3v2GCCkBYxoZu9kcKQHP3OT5afAlAO4xJfy/FCUDqPCr+76gJQMIWu31W+QhAOEvJchKqCkBfJLTlXMoKQI83+S062QtAEYyDS8e8C0B872/QXv0IQKio+pXOBwxAdF/ObFdoCkB0forjwGsKQJYEqKllywhALzatFAJZCkD9TShEwKEMQPPkmgKZHQpAP+YDAp1pC0AkQiPYuF4KQJbnwd1Z2wlAYcWp1sLMCkCtwJDVrX4HQK+V0F0SpwlAQx1WuOWDCEDqB3WRQvkHQInOMotQLAdAuFonLsdrB0D1hCUeULYGQB6M2CeAwgZApyIVxhbiB0Djjjf5LdoIQHL+JhQigApAhJuMKsN4CkB5dvnWh3UIQBDPEmQE1AlAPL69a9BXCEDYDkbsE0AIQL+5v3rc1wdAV89J7xvfB0C/1TpxOV4IQKMfDafMrQdApKZdTDN9CUDnNXaJ6k0JQOlDF9S37ApAjUP9LmxtC0AZrg6AuAsJQGRXWkbq/QtAcGByo8i6CkD3kVuTbssJQEfLgR5q2whASBlxAWiUCUANxohEoWUJQI+Oq5Fd6QhADWyVYHG4CkCRRZp4B5gKQKQ2cXK/gwxAWp4Hd2cNDUCOPBBZpEkKQLA4nPnVPAtAxsTm49rwCkAL1c3F3/YKQChk521sFglAsP86N20mCkCrsYS1MVYKQGJodXKGoglA7gc8MIAQC0DGhQMhWWAKQAQ5KGGmLQtAoU0On3QCDEAlCFdAoV4JQJpEveDTHA1APuqvV1gwC0A25J8ZxKcLQFxxcVRuggpASE+RQ8RtC0BvZvSj4fQKQDtT6LzGDgtAN+M0RBX+C0CUbeAO1AkLQM8Tz9kCog1AlbcjnBacDUDqPCr+78gLQHKIuDmVzAxAbJT1m4mJC0AMWHIVi18LQJxR81XyMQpATFMEOL3LCkAb8WQ3M5oKQH2zzY3pSQpAlbiOccUFDECY2lIHeV0LQHe688Rz9gxAnYL8bOQ6DkAuxsA6jj8MQG+fVWZKCw9AixpMw/CxDUBEv7Z++u8NQE4lA0AVtwtADixHyEC+DECDvvT25yINQBtMw/ARkQlAG0rtRbT9DEDsv85NmxENQJSGGoUksw5A7upVZHRgD0DBkUCDTT0MQA5KmGn7dw9AZ7RVSWS/DUBhiQeUTdkNQE3XE10XXgxA7Z+nAYOEDUAaMh6lEp4NQBKhEWxcPw1ARPzDlh7tDkDq6/ma5dIOQIP8bOS6yQ9AMBAEyNBRD0BaoUj3c4oNQJm4VRADzRBAo8wGmWQEEEBenPhqR5EQQDhlbr4RfQ9AU+i8xi7RD0AIsMivH1IQQKUsQxzrgg9AZavLKQGREEDtDikGSLQQQNtv7URJWBFAmbuWkA/6EUCyZmSQu+gQQAnAP6VK9BJACtejcD3qEUD8pUV9kksSQJT6srRTQxFAQnv18dAHEkAexTnq6AgSQGmn5nKDwQ1AndSXpZ1KEkBxrfawFyoSQKFpiZXR6BJAGxNiLqkqE0BB1ejVAOUQQBWNtb+zXRJASzrKwWxyEUCNR6mEJxQRQFGIgEOoEg9Avf+PEyYcEEANGvonuJgPQBJpG3+iEg9A1A/qIoUiEEBPBdzz/KkQQMDo8uZwfRFA9FDbhlHwEUAldJfEWRERQIXsvI3NjhNAdc3km22eEkD5hVeSPHcTQDnVWpiFlhJA1BBV+DNME0ByT1d3LNYTQGqJldHINxRAhqsDIO46FUDZsRGI13UVQOlkqfV+AxhA4zWv6qxmGECy8stgjAgWQAlU/yCS0RpAfLjkuFP6GUD6uDZUjEMcQFNb6iCvhxpA+dwJ9l+3HEBb0HtjCLAdQNtSB3k9qB5ARdjw9ErhIEDmr5C5MsggQPfoDfeR+yFAOPQWD+9BIkArE36pnwchQJD3qpUJzyFApg9dUN+SIUBdUyCzs7AiQJG5Mqg20CJAz8DIy5rYI0CYUMHhBaEkQI1feCXJ6yRA4ZhlTwJjJkBaY9AJobMmQPRTHAdeNSdAGavN/6uGJ0B0RSkhWG0lQDyInSl0vihAvLGgMCgzKEABUMWNW4wpQE9bI4JxWChAETRmEvUKKUAu/yH99tUoQCvAd5s3lihAvk9VoYG4KkBOQukLIY8pQEJcOXtnrCtA/fUKC+4XLECF0EGXcKgpQIfddwyP9SxAj8L1KFwfLUAhlWJH46AuQC7+tidIPC1AsHWpEfpZL0CBPSZSmoUvQCzwFd16dS1A63O1FftTMEBClZo90EowQMwHBDqTojFANj/+0qL+MEBKJxJMNRsvQP96hQX3ezFAgCpu3GK2MEAvMCsU6VoxQOVgNgGGDTBAEk92M6NLMECa0Y+GUy4wQCxi2GFMEi9AhxQDJJowMEDZz2IpkncvQC9rYoGvCDBAvRx23zHkL0AX1o13R04tQMbE5uPamC5Ac4I2OXyCLUBXCoFc4hguQKxvYHKjsCxApI6Oq5HNLEB3Z+22C1UtQB5v8lt0qitAT0ATYcMjLEA0g/jAjocqQLBXWHA/yCpA8MLWbOUVK0CW58HdWfsoQNaryOiANCtAHQWIghnLKkAVPIVcqQ8sQC9NEeD0bitA3IKluoDPLUBWSPlJtf8sQNo6ONibiC5AeQd40sI5MUCTGtoAbMAwQJPi4xOyrzFApWsm32wvMUD3cp8cBYgvQFd8Q+GzRTJAdXKG4o7vMUDwF7Mlq4oyQPhPN1Dg4TFAiGUzh6S6MkBLIvsgy5ozQABXsmMj0DNAxT2WPnSVNUAWURN9Pv40QMoxWdx/eDZAFcWrrG3qNUBlcf+R6bQ0QI19ycaDgTZAO4veqYArNkA5J/bQPgI3QP95GjBIAjZAZttpa0Q0N0CY3v5cNMw3QHV2MjhKEjdAHhmrzf9TOEAaGeQuwoQ4QCrltRK6ozlAnPnVHCAUOkC6ZYf4h0k4QPoK0oxFGzpAxqS/l8JHOEDBjClY42Q1QIVgVb38RjVAbXTOT3FMNkBVbTfBN4k2QOntz0VDOjVAXDy858BuNUASoKaWrXU0QCpWDcLcUjVAITtvY7M3NkBjf9k9eXAwQEme6/twyDVALXx9rUv5NEC3s688SCs1QKIL6lvmJDRAxf6ye/KsM0B2cLA3MdAxQA==\",\"dtype\":\"float64\",\"order\":\"little\",\"shape\":[344]},\"Date\":{\"__ndarray__\":\"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\",\"dtype\":\"float64\",\"order\":\"little\",\"shape\":[344]},\"GW Gas (MCF)\":{\"__ndarray__\":\"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\",\"dtype\":\"float64\",\"order\":\"little\",\"shape\":[344]},\"Oil (BBL)\":{\"__ndarray__\":\"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\",\"dtype\":\"float64\",\"order\":\"little\",\"shape\":[344]},\"index\":[0,1,2,3,4,5,6,7,8,9,10,11,12,13,14,15,16,17,18,19,20,21,22,23,24,25,26,27,28,29,30,31,32,33,34,35,36,37,38,39,40,41,42,43,44,45,46,47,48,49,50,51,52,53,54,55,56,57,58,59,60,61,62,63,64,65,66,67,68,69,70,71,72,73,74,75,76,77,78,79,80,81,82,83,84,85,86,87,88,89,90,91,92,93,94,95,96,97,98,99,100,101,102,103,104,105,106,107,108,109,110,111,112,113,114,115,116,117,118,119,120,121,122,123,124,125,126,127,128,129,130,131,132,133,134,135,136,137,138,139,140,141,142,143,144,145,146,147,148,149,150,151,152,153,154,155,156,157,158,159,160,161,162,163,164,165,166,167,168,169,170,171,172,173,174,175,176,177,178,179,180,181,182,183,184,185,186,187,188,189,190,191,192,193,194,195,196,197,198,199,200,201,202,203,204,205,206,207,208,209,210,211,212,213,214,215,216,217,218,219,220,221,222,223,224,225,226,227,228,229,230,231,232,233,234,235,236,237,238,239,240,241,242,243,244,245,246,247,248,249,250,251,252,253,254,255,256,257,258,259,260,261,262,263,264,265,266,267,268,269,270,271,272,273,274,275,276,277,278,279,280,281,282,283,284,285,286,287,288,289,290,291,292,293,294,295,296,297,298,299,300,301,302,303,304,305,306,307,308,309,310,311,312,313,314,315,316,317,318,319,320,321,322,323,324,325,326,327,328,329,330,331,332,333,334,335,336,337,338,339,340,341,342,343]},\"selected\":{\"id\":\"4577\"},\"selection_policy\":{\"id\":\"4576\"}},\"id\":\"4529\",\"type\":\"ColumnDataSource\"},{\"attributes\":{\"coordinates\":null,\"data_source\":{\"id\":\"4529\"},\"glyph\":{\"id\":\"4601\"},\"group\":null,\"hover_glyph\":null,\"muted_glyph\":{\"id\":\"4603\"},\"nonselection_glyph\":{\"id\":\"4602\"},\"view\":{\"id\":\"4605\"},\"y_range_name\":\"mcf\"},\"id\":\"4604\",\"type\":\"GlyphRenderer\"},{\"attributes\":{},\"id\":\"4575\",\"type\":\"AllLabels\"},{\"attributes\":{\"line_alpha\":0.2,\"line_color\":\"#d95f02\",\"line_width\":2,\"x\":{\"field\":\"Date\"},\"y\":{\"field\":\"Condensate (BBL)\"}},\"id\":\"4584\",\"type\":\"Line\"},{\"attributes\":{\"callback\":null,\"formatters\":{\"@Date\":\"datetime\"},\"mode\":\"vline\",\"tooltips\":\"@Date{%b %d, %Y} $y\"},\"id\":\"4642\",\"type\":\"HoverTool\"},{\"attributes\":{\"end\":627.126394},\"id\":\"4598\",\"type\":\"Range1d\"},{\"attributes\":{\"tools\":[{\"id\":\"4549\"},{\"id\":\"4550\"},{\"id\":\"4551\"},{\"id\":\"4552\"},{\"id\":\"4553\"},{\"id\":\"4554\"},{\"id\":\"4642\"}]},\"id\":\"4556\",\"type\":\"Toolbar\"},{\"attributes\":{\"axis_label\":\"MCF (millions)\",\"coordinates\":null,\"formatter\":{\"id\":\"4611\"},\"group\":null,\"major_label_policy\":{\"id\":\"4612\"},\"ticker\":{\"id\":\"4610\"},\"y_range_name\":\"mcf\"},\"id\":\"4599\",\"type\":\"LinearAxis\"},{\"attributes\":{\"line_alpha\":0.1,\"line_color\":\"#d95f02\",\"line_width\":2,\"x\":{\"field\":\"Date\"},\"y\":{\"field\":\"Condensate (BBL)\"}},\"id\":\"4583\",\"type\":\"Line\"},{\"attributes\":{},\"id\":\"4550\",\"type\":\"WheelZoomTool\"},{\"attributes\":{\"source\":{\"id\":\"4529\"}},\"id\":\"4605\",\"type\":\"CDSView\"},{\"attributes\":{\"end\":142.698592},\"id\":\"4535\",\"type\":\"Range1d\"},{\"attributes\":{\"overlay\":{\"id\":\"4555\"}},\"id\":\"4551\",\"type\":\"BoxZoomTool\"},{\"attributes\":{\"coordinates\":null,\"data_source\":{\"id\":\"4529\"},\"glyph\":{\"id\":\"4582\"},\"group\":null,\"hover_glyph\":null,\"muted_glyph\":{\"id\":\"4584\"},\"nonselection_glyph\":{\"id\":\"4583\"},\"view\":{\"id\":\"4586\"}},\"id\":\"4585\",\"type\":\"GlyphRenderer\"},{\"attributes\":{},\"id\":\"4549\",\"type\":\"PanTool\"},{\"attributes\":{\"source\":{\"id\":\"4529\"}},\"id\":\"4625\",\"type\":\"CDSView\"},{\"attributes\":{},\"id\":\"4552\",\"type\":\"SaveTool\"},{\"attributes\":{},\"id\":\"4553\",\"type\":\"ResetTool\"},{\"attributes\":{},\"id\":\"4546\",\"type\":\"BasicTicker\"},{\"attributes\":{},\"id\":\"4611\",\"type\":\"BasicTickFormatter\"},{\"attributes\":{\"axis\":{\"id\":\"4541\"},\"coordinates\":null,\"group\":null,\"ticker\":null},\"id\":\"4544\",\"type\":\"Grid\"},{\"attributes\":{},\"id\":\"4533\",\"type\":\"DataRange1d\"},{\"attributes\":{\"coordinates\":null,\"data_source\":{\"id\":\"4529\"},\"glyph\":{\"id\":\"4621\"},\"group\":null,\"hover_glyph\":null,\"muted_glyph\":{\"id\":\"4623\"},\"nonselection_glyph\":{\"id\":\"4622\"},\"view\":{\"id\":\"4625\"},\"y_range_name\":\"mcf\"},\"id\":\"4624\",\"type\":\"GlyphRenderer\"},{\"attributes\":{},\"id\":\"4554\",\"type\":\"HelpTool\"},{\"attributes\":{\"axis_label\":\"BBL (millions)\",\"coordinates\":null,\"formatter\":{\"id\":\"4571\"},\"group\":null,\"major_label_policy\":{\"id\":\"4572\"},\"ticker\":{\"id\":\"4546\"}},\"id\":\"4545\",\"type\":\"LinearAxis\"},{\"attributes\":{\"line_alpha\":0.1,\"line_color\":\"#1b9e77\",\"line_width\":2,\"x\":{\"field\":\"Date\"},\"y\":{\"field\":\"Oil (BBL)\"}},\"id\":\"4565\",\"type\":\"Line\"},{\"attributes\":{\"days\":[\"%b %Y\"],\"months\":[\"%b %Y\"]},\"id\":\"4640\",\"type\":\"DatetimeTickFormatter\"},{\"attributes\":{\"line_alpha\":0.2,\"line_color\":\"#1b9e77\",\"line_width\":2,\"x\":{\"field\":\"Date\"},\"y\":{\"field\":\"Oil (BBL)\"}},\"id\":\"4566\",\"type\":\"Line\"},{\"attributes\":{\"line_alpha\":0.1,\"line_color\":\"#e7298a\",\"line_width\":2,\"x\":{\"field\":\"Date\"},\"y\":{\"field\":\"GW Gas (MCF)\"}},\"id\":\"4622\",\"type\":\"Line\"},{\"attributes\":{\"label\":{\"value\":\"Casinghead\"},\"renderers\":[{\"id\":\"4604\"}]},\"id\":\"4619\",\"type\":\"LegendItem\"},{\"attributes\":{},\"id\":\"4612\",\"type\":\"AllLabels\"},{\"attributes\":{\"line_alpha\":0.2,\"line_color\":\"#e7298a\",\"line_width\":2,\"x\":{\"field\":\"Date\"},\"y\":{\"field\":\"GW Gas (MCF)\"}},\"id\":\"4623\",\"type\":\"Line\"},{\"attributes\":{\"line_color\":\"#1b9e77\",\"line_width\":2,\"x\":{\"field\":\"Date\"},\"y\":{\"field\":\"Oil (BBL)\"}},\"id\":\"4564\",\"type\":\"Line\"},{\"attributes\":{\"line_alpha\":0.1,\"line_color\":\"#7570b3\",\"line_width\":2,\"x\":{\"field\":\"Date\"},\"y\":{\"field\":\"Casinghead (MCF)\"}},\"id\":\"4602\",\"type\":\"Line\"},{\"attributes\":{},\"id\":\"4537\",\"type\":\"LinearScale\"},{\"attributes\":{\"line_alpha\":0.2,\"line_color\":\"#7570b3\",\"line_width\":2,\"x\":{\"field\":\"Date\"},\"y\":{\"field\":\"Casinghead (MCF)\"}},\"id\":\"4603\",\"type\":\"Line\"},{\"attributes\":{\"bottom_units\":\"screen\",\"coordinates\":null,\"fill_alpha\":0.5,\"fill_color\":\"lightgrey\",\"group\":null,\"left_units\":\"screen\",\"level\":\"overlay\",\"line_alpha\":1.0,\"line_color\":\"black\",\"line_dash\":[4,4],\"line_width\":2,\"right_units\":\"screen\",\"syncable\":false,\"top_units\":\"screen\"},\"id\":\"4555\",\"type\":\"BoxAnnotation\"},{\"attributes\":{\"label\":{\"value\":\"GW Gas\"},\"renderers\":[{\"id\":\"4624\"}]},\"id\":\"4639\",\"type\":\"LegendItem\"},{\"attributes\":{\"label\":{\"value\":\"Oil\"},\"renderers\":[{\"id\":\"4567\"}]},\"id\":\"4580\",\"type\":\"LegendItem\"},{\"attributes\":{},\"id\":\"4577\",\"type\":\"Selection\"},{\"attributes\":{\"line_color\":\"#e7298a\",\"line_width\":2,\"x\":{\"field\":\"Date\"},\"y\":{\"field\":\"GW Gas (MCF)\"}},\"id\":\"4621\",\"type\":\"Line\"},{\"attributes\":{\"axis\":{\"id\":\"4545\"},\"coordinates\":null,\"dimension\":1,\"group\":null,\"ticker\":null},\"id\":\"4548\",\"type\":\"Grid\"}],\"root_ids\":[\"4530\"]},\"title\":\"Bokeh Application\",\"version\":\"2.4.1\"}};\n  const render_items = [{\"docid\":\"243d671b-1133-4617-bc92-d89a96e2aa52\",\"root_ids\":[\"4530\"],\"roots\":{\"4530\":\"ae343fa4-aa8e-4d39-8678-229e86e0190c\"}}];\n  root.Bokeh.embed.embed_items_notebook(docs_json, render_items);\n\n  }\n  if (root.Bokeh !== undefined) {\n    embed_document(root);\n  } else {\n    let attempts = 0;\n    const timer = setInterval(function(root) {\n      if (root.Bokeh !== undefined) {\n        clearInterval(timer);\n        embed_document(root);\n      } else {\n        attempts++;\n        if (attempts > 100) {\n          clearInterval(timer);\n          console.log(\"Bokeh: ERROR: Unable to run BokehJS code because BokehJS library is missing\");\n        }\n      }\n    }, 10, root)\n  }\n})(window);",
      "application/vnd.bokehjs_exec.v0+json": ""
     },
     "metadata": {
      "application/vnd.bokehjs_exec.v0+json": {
       "id": "4530"
      }
     },
     "output_type": "display_data"
    }
   ],
   "source": [
    "source = ColumnDataSource((df/1000000).reset_index())\n",
    "bbl_cols = [\"Oil (BBL)\", \"Condensate (BBL)\"]\n",
    "mcf_cols = [\"Casinghead (MCF)\", \"GW Gas (MCF)\"]\n",
    "p = figure(\n",
    "    title=\"Texas Statewide Oil and Gas Production (Monthly)\", \n",
    "    y_axis_label=\"BBL (millions)\", \n",
    "    y_range = (0,df[bbl_cols].max().max()/1000000),\n",
    "    sizing_mode=\"stretch_width\",\n",
    "    height=400\n",
    "    )\n",
    "p.line(x=\"Date\", y=\"Oil (BBL)\", legend_label=\"Oil\", source = source, line_color=Dark2[4][0], line_width=2)\n",
    "p.line(x=\"Date\", y=\"Condensate (BBL)\", legend_label=\"Condensate\", source = source, line_color=Dark2[4][1], line_width=2)\n",
    "p.extra_y_ranges = {\"mcf\": Range1d(start=0, end=df[mcf_cols].max().max()/1000000)}\n",
    "p.add_layout(LinearAxis(y_range_name=\"mcf\", axis_label=\"MCF (millions)\"), 'right')\n",
    "p.line(x=\"Date\", y=\"Casinghead (MCF)\", legend_label=\"Casinghead\", source = source, y_range_name=\"mcf\", line_color=Dark2[4][2], line_width=2)\n",
    "p.line(x=\"Date\", y=\"GW Gas (MCF)\", legend_label=\"GW Gas\", source = source, y_range_name=\"mcf\", line_color=Dark2[4][3], line_width=2)\n",
    "p.xaxis.formatter = DatetimeTickFormatter(\n",
    "    days = ['%b %Y'],\n",
    "    months = ['%b %Y'],\n",
    "    years = ['%Y']\n",
    "    )\n",
    "p.add_tools(HoverTool(\n",
    "    tooltips=\"@Date{%b %d, %Y} $y\",\n",
    "    formatters={'@Date': 'datetime'},\n",
    "    mode='vline'\n",
    "))\n",
    "p.legend.location = \"top_left\"\n",
    "show(p)"
   ]
  },
  {
   "cell_type": "code",
   "execution_count": 60,
   "metadata": {},
   "outputs": [
    {
     "data": {
      "text/plain": [
       "142698592"
      ]
     },
     "execution_count": 60,
     "metadata": {},
     "output_type": "execute_result"
    }
   ],
   "source": [
    "df[[\"Oil (BBL)\", \"Condensate (BBL)\"]].max().max()"
   ]
  },
  {
   "cell_type": "code",
   "execution_count": null,
   "metadata": {},
   "outputs": [],
   "source": []
  }
 ],
 "metadata": {
  "interpreter": {
   "hash": "20a02c8e10cedb5c9c5cd633ccbecfee681758af99ee19f2a5b87b21ce4970a4"
  },
  "kernelspec": {
   "display_name": "Python 3.9.8 64-bit ('.venv': venv)",
   "language": "python",
   "name": "python3"
  },
  "language_info": {
   "codemirror_mode": {
    "name": "ipython",
    "version": 3
   },
   "file_extension": ".py",
   "mimetype": "text/x-python",
   "name": "python",
   "nbconvert_exporter": "python",
   "pygments_lexer": "ipython3",
   "version": "3.9.8"
  },
  "orig_nbformat": 4
 },
 "nbformat": 4,
 "nbformat_minor": 2
}
