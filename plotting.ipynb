{
 "cells": [
  {
   "cell_type": "code",
   "execution_count": 58,
   "metadata": {},
   "outputs": [],
   "source": [
    "import numpy as np\n",
    "from fredapi import Fred\n",
    "from bokeh.plotting import figure, show\n",
    "from bokeh.io import output_notebook, curdoc\n",
    "from bokeh.models import DatetimeTickFormatter, HoverTool\n",
    "import config"
   ]
  },
  {
   "cell_type": "code",
   "execution_count": 15,
   "metadata": {},
   "outputs": [
    {
     "data": {
      "text/html": [
       "\n",
       "    <div class=\"bk-root\">\n",
       "        <a href=\"https://bokeh.org\" target=\"_blank\" class=\"bk-logo bk-logo-small bk-logo-notebook\"></a>\n",
       "        <span id=\"1422\">Loading BokehJS ...</span>\n",
       "    </div>"
      ]
     },
     "metadata": {},
     "output_type": "display_data"
    },
    {
     "data": {
      "application/javascript": "\n(function(root) {\n  function now() {\n    return new Date();\n  }\n\n  const force = true;\n\n  if (typeof root._bokeh_onload_callbacks === \"undefined\" || force === true) {\n    root._bokeh_onload_callbacks = [];\n    root._bokeh_is_loading = undefined;\n  }\n\n  const JS_MIME_TYPE = 'application/javascript';\n  const HTML_MIME_TYPE = 'text/html';\n  const EXEC_MIME_TYPE = 'application/vnd.bokehjs_exec.v0+json';\n  const CLASS_NAME = 'output_bokeh rendered_html';\n\n  /**\n   * Render data to the DOM node\n   */\n  function render(props, node) {\n    const script = document.createElement(\"script\");\n    node.appendChild(script);\n  }\n\n  /**\n   * Handle when an output is cleared or removed\n   */\n  function handleClearOutput(event, handle) {\n    const cell = handle.cell;\n\n    const id = cell.output_area._bokeh_element_id;\n    const server_id = cell.output_area._bokeh_server_id;\n    // Clean up Bokeh references\n    if (id != null && id in Bokeh.index) {\n      Bokeh.index[id].model.document.clear();\n      delete Bokeh.index[id];\n    }\n\n    if (server_id !== undefined) {\n      // Clean up Bokeh references\n      const cmd_clean = \"from bokeh.io.state import curstate; print(curstate().uuid_to_server['\" + server_id + \"'].get_sessions()[0].document.roots[0]._id)\";\n      cell.notebook.kernel.execute(cmd_clean, {\n        iopub: {\n          output: function(msg) {\n            const id = msg.content.text.trim();\n            if (id in Bokeh.index) {\n              Bokeh.index[id].model.document.clear();\n              delete Bokeh.index[id];\n            }\n          }\n        }\n      });\n      // Destroy server and session\n      const cmd_destroy = \"import bokeh.io.notebook as ion; ion.destroy_server('\" + server_id + \"')\";\n      cell.notebook.kernel.execute(cmd_destroy);\n    }\n  }\n\n  /**\n   * Handle when a new output is added\n   */\n  function handleAddOutput(event, handle) {\n    const output_area = handle.output_area;\n    const output = handle.output;\n\n    // limit handleAddOutput to display_data with EXEC_MIME_TYPE content only\n    if ((output.output_type != \"display_data\") || (!Object.prototype.hasOwnProperty.call(output.data, EXEC_MIME_TYPE))) {\n      return\n    }\n\n    const toinsert = output_area.element.find(\".\" + CLASS_NAME.split(' ')[0]);\n\n    if (output.metadata[EXEC_MIME_TYPE][\"id\"] !== undefined) {\n      toinsert[toinsert.length - 1].firstChild.textContent = output.data[JS_MIME_TYPE];\n      // store reference to embed id on output_area\n      output_area._bokeh_element_id = output.metadata[EXEC_MIME_TYPE][\"id\"];\n    }\n    if (output.metadata[EXEC_MIME_TYPE][\"server_id\"] !== undefined) {\n      const bk_div = document.createElement(\"div\");\n      bk_div.innerHTML = output.data[HTML_MIME_TYPE];\n      const script_attrs = bk_div.children[0].attributes;\n      for (let i = 0; i < script_attrs.length; i++) {\n        toinsert[toinsert.length - 1].firstChild.setAttribute(script_attrs[i].name, script_attrs[i].value);\n        toinsert[toinsert.length - 1].firstChild.textContent = bk_div.children[0].textContent\n      }\n      // store reference to server id on output_area\n      output_area._bokeh_server_id = output.metadata[EXEC_MIME_TYPE][\"server_id\"];\n    }\n  }\n\n  function register_renderer(events, OutputArea) {\n\n    function append_mime(data, metadata, element) {\n      // create a DOM node to render to\n      const toinsert = this.create_output_subarea(\n        metadata,\n        CLASS_NAME,\n        EXEC_MIME_TYPE\n      );\n      this.keyboard_manager.register_events(toinsert);\n      // Render to node\n      const props = {data: data, metadata: metadata[EXEC_MIME_TYPE]};\n      render(props, toinsert[toinsert.length - 1]);\n      element.append(toinsert);\n      return toinsert\n    }\n\n    /* Handle when an output is cleared or removed */\n    events.on('clear_output.CodeCell', handleClearOutput);\n    events.on('delete.Cell', handleClearOutput);\n\n    /* Handle when a new output is added */\n    events.on('output_added.OutputArea', handleAddOutput);\n\n    /**\n     * Register the mime type and append_mime function with output_area\n     */\n    OutputArea.prototype.register_mime_type(EXEC_MIME_TYPE, append_mime, {\n      /* Is output safe? */\n      safe: true,\n      /* Index of renderer in `output_area.display_order` */\n      index: 0\n    });\n  }\n\n  // register the mime type if in Jupyter Notebook environment and previously unregistered\n  if (root.Jupyter !== undefined) {\n    const events = require('base/js/events');\n    const OutputArea = require('notebook/js/outputarea').OutputArea;\n\n    if (OutputArea.prototype.mime_types().indexOf(EXEC_MIME_TYPE) == -1) {\n      register_renderer(events, OutputArea);\n    }\n  }\n\n  \n  if (typeof (root._bokeh_timeout) === \"undefined\" || force === true) {\n    root._bokeh_timeout = Date.now() + 5000;\n    root._bokeh_failed_load = false;\n  }\n\n  const NB_LOAD_WARNING = {'data': {'text/html':\n     \"<div style='background-color: #fdd'>\\n\"+\n     \"<p>\\n\"+\n     \"BokehJS does not appear to have successfully loaded. If loading BokehJS from CDN, this \\n\"+\n     \"may be due to a slow or bad network connection. Possible fixes:\\n\"+\n     \"</p>\\n\"+\n     \"<ul>\\n\"+\n     \"<li>re-rerun `output_notebook()` to attempt to load from CDN again, or</li>\\n\"+\n     \"<li>use INLINE resources instead, as so:</li>\\n\"+\n     \"</ul>\\n\"+\n     \"<code>\\n\"+\n     \"from bokeh.resources import INLINE\\n\"+\n     \"output_notebook(resources=INLINE)\\n\"+\n     \"</code>\\n\"+\n     \"</div>\"}};\n\n  function display_loaded() {\n    const el = document.getElementById(\"1422\");\n    if (el != null) {\n      el.textContent = \"BokehJS is loading...\";\n    }\n    if (root.Bokeh !== undefined) {\n      if (el != null) {\n        el.textContent = \"BokehJS \" + root.Bokeh.version + \" successfully loaded.\";\n      }\n    } else if (Date.now() < root._bokeh_timeout) {\n      setTimeout(display_loaded, 100)\n    }\n  }\n\n\n  function run_callbacks() {\n    try {\n      root._bokeh_onload_callbacks.forEach(function(callback) {\n        if (callback != null)\n          callback();\n      });\n    } finally {\n      delete root._bokeh_onload_callbacks\n    }\n    console.debug(\"Bokeh: all callbacks have finished\");\n  }\n\n  function load_libs(css_urls, js_urls, callback) {\n    if (css_urls == null) css_urls = [];\n    if (js_urls == null) js_urls = [];\n\n    root._bokeh_onload_callbacks.push(callback);\n    if (root._bokeh_is_loading > 0) {\n      console.debug(\"Bokeh: BokehJS is being loaded, scheduling callback at\", now());\n      return null;\n    }\n    if (js_urls == null || js_urls.length === 0) {\n      run_callbacks();\n      return null;\n    }\n    console.debug(\"Bokeh: BokehJS not loaded, scheduling load and callback at\", now());\n    root._bokeh_is_loading = css_urls.length + js_urls.length;\n\n    function on_load() {\n      root._bokeh_is_loading--;\n      if (root._bokeh_is_loading === 0) {\n        console.debug(\"Bokeh: all BokehJS libraries/stylesheets loaded\");\n        run_callbacks()\n      }\n    }\n\n    function on_error(url) {\n      console.error(\"failed to load \" + url);\n    }\n\n    for (let i = 0; i < css_urls.length; i++) {\n      const url = css_urls[i];\n      const element = document.createElement(\"link\");\n      element.onload = on_load;\n      element.onerror = on_error.bind(null, url);\n      element.rel = \"stylesheet\";\n      element.type = \"text/css\";\n      element.href = url;\n      console.debug(\"Bokeh: injecting link tag for BokehJS stylesheet: \", url);\n      document.body.appendChild(element);\n    }\n\n    for (let i = 0; i < js_urls.length; i++) {\n      const url = js_urls[i];\n      const element = document.createElement('script');\n      element.onload = on_load;\n      element.onerror = on_error.bind(null, url);\n      element.async = false;\n      element.src = url;\n      console.debug(\"Bokeh: injecting script tag for BokehJS library: \", url);\n      document.head.appendChild(element);\n    }\n  };\n\n  function inject_raw_css(css) {\n    const element = document.createElement(\"style\");\n    element.appendChild(document.createTextNode(css));\n    document.body.appendChild(element);\n  }\n\n  \n  const js_urls = [\"https://cdn.bokeh.org/bokeh/release/bokeh-2.4.1.min.js\", \"https://cdn.bokeh.org/bokeh/release/bokeh-gl-2.4.1.min.js\", \"https://cdn.bokeh.org/bokeh/release/bokeh-widgets-2.4.1.min.js\", \"https://cdn.bokeh.org/bokeh/release/bokeh-tables-2.4.1.min.js\", \"https://cdn.bokeh.org/bokeh/release/bokeh-mathjax-2.4.1.min.js\"];\n  const css_urls = [];\n  \n\n  const inline_js = [\n    function(Bokeh) {\n      Bokeh.set_log_level(\"info\");\n    },\n    function(Bokeh) {\n    \n    \n    }\n  ];\n\n  function run_inline_js() {\n    \n    if (root.Bokeh !== undefined || force === true) {\n      \n    for (let i = 0; i < inline_js.length; i++) {\n      inline_js[i].call(root, root.Bokeh);\n    }\n    if (force === true) {\n        display_loaded();\n      }} else if (Date.now() < root._bokeh_timeout) {\n      setTimeout(run_inline_js, 100);\n    } else if (!root._bokeh_failed_load) {\n      console.log(\"Bokeh: BokehJS failed to load within specified timeout.\");\n      root._bokeh_failed_load = true;\n    } else if (force !== true) {\n      const cell = $(document.getElementById(\"1422\")).parents('.cell').data().cell;\n      cell.output_area.append_execute_result(NB_LOAD_WARNING)\n    }\n\n  }\n\n  if (root._bokeh_is_loading === 0) {\n    console.debug(\"Bokeh: BokehJS loaded, going straight to plotting\");\n    run_inline_js();\n  } else {\n    load_libs(css_urls, js_urls, function() {\n      console.debug(\"Bokeh: BokehJS plotting callback run at\", now());\n      run_inline_js();\n    });\n  }\n}(window));",
      "application/vnd.bokehjs_load.v0+json": ""
     },
     "metadata": {},
     "output_type": "display_data"
    }
   ],
   "source": [
    "settings = config.Settings()\n",
    "output_notebook()\n",
    "# apply theme to current document\n",
    "curdoc().theme = \"dark_minimal\""
   ]
  },
  {
   "cell_type": "code",
   "execution_count": 8,
   "metadata": {},
   "outputs": [],
   "source": [
    "fred = Fred(api_key=settings.fred_api_key)\n",
    "y = fred.get_series('CPILFENS')"
   ]
  },
  {
   "cell_type": "code",
   "execution_count": 9,
   "metadata": {},
   "outputs": [
    {
     "name": "stdout",
     "output_type": "stream",
     "text": [
      "Range is from January 01, 1957 to September 01, 2021\n"
     ]
    }
   ],
   "source": [
    "print(f\"Range is from {y.index.min().strftime('%B %d, %Y')} to {y.index.max().strftime('%B %d, %Y')}\")"
   ]
  },
  {
   "cell_type": "code",
   "execution_count": 57,
   "metadata": {},
   "outputs": [
    {
     "data": {
      "text/html": [
       "\n",
       "\n",
       "\n",
       "\n",
       "\n",
       "\n",
       "  <div class=\"bk-root\" id=\"0431d65e-a331-4f38-8bb7-2dbc6c35de00\" data-root-id=\"7512\"></div>\n"
      ]
     },
     "metadata": {},
     "output_type": "display_data"
    },
    {
     "data": {
      "application/javascript": "(function(root) {\n  function embed_document(root) {\n    \n  const docs_json = {\"9620bf6f-4901-4a3f-8116-6889eec6df57\":{\"defs\":[],\"roots\":{\"references\":[{\"attributes\":{\"background_fill_color\":\"#20262B\",\"below\":[{\"id\":\"7523\"}],\"border_fill_color\":\"#15191C\",\"center\":[{\"id\":\"7526\"},{\"id\":\"7530\"},{\"id\":\"7561\"}],\"height\":300,\"left\":[{\"id\":\"7527\"}],\"outline_line_alpha\":0.25,\"outline_line_color\":\"#E0E0E0\",\"renderers\":[{\"id\":\"7549\"}],\"sizing_mode\":\"stretch_width\",\"title\":{\"id\":\"7513\"},\"toolbar\":{\"id\":\"7538\"},\"x_range\":{\"id\":\"7515\"},\"x_scale\":{\"id\":\"7519\"},\"y_range\":{\"id\":\"7517\"},\"y_scale\":{\"id\":\"7521\"}},\"id\":\"7512\",\"subtype\":\"Figure\",\"type\":\"Plot\"},{\"attributes\":{},\"id\":\"7531\",\"type\":\"PanTool\"},{\"attributes\":{},\"id\":\"7528\",\"type\":\"BasicTicker\"},{\"attributes\":{\"days\":[\"%b %d, %Y\"],\"months\":[\"%b %Y\"]},\"id\":\"7563\",\"type\":\"DatetimeTickFormatter\"},{\"attributes\":{\"axis_label\":\"Index, 1982-84=100\",\"axis_label_standoff\":10,\"axis_label_text_color\":\"#E0E0E0\",\"axis_label_text_font\":\"Helvetica\",\"axis_label_text_font_size\":\"1.25em\",\"axis_label_text_font_style\":\"normal\",\"axis_line_alpha\":0,\"axis_line_color\":\"#E0E0E0\",\"coordinates\":null,\"formatter\":{\"id\":\"7553\"},\"group\":null,\"major_label_policy\":{\"id\":\"7554\"},\"major_label_text_color\":\"#E0E0E0\",\"major_label_text_font\":\"Helvetica\",\"major_label_text_font_size\":\"1.025em\",\"major_tick_line_alpha\":0,\"major_tick_line_color\":\"#E0E0E0\",\"minor_tick_line_alpha\":0,\"minor_tick_line_color\":\"#E0E0E0\",\"ticker\":{\"id\":\"7528\"}},\"id\":\"7527\",\"type\":\"LinearAxis\"},{\"attributes\":{\"data\":{\"x\":{\"__ndarray__\":\"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\",\"dtype\":\"float64\",\"order\":\"little\",\"shape\":[777]},\"y\":{\"__ndarray__\":\"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\",\"dtype\":\"float64\",\"order\":\"little\",\"shape\":[777]}},\"selected\":{\"id\":\"7559\"},\"selection_policy\":{\"id\":\"7558\"}},\"id\":\"7545\",\"type\":\"ColumnDataSource\"},{\"attributes\":{},\"id\":\"7558\",\"type\":\"UnionRenderers\"},{\"attributes\":{},\"id\":\"7515\",\"type\":\"DataRange1d\"},{\"attributes\":{},\"id\":\"7517\",\"type\":\"DataRange1d\"},{\"attributes\":{},\"id\":\"7559\",\"type\":\"Selection\"},{\"attributes\":{\"callback\":null,\"formatters\":{\"@x\":\"datetime\"},\"mode\":\"vline\",\"tooltips\":\"@x{%b %d, %Y}: @y\"},\"id\":\"7565\",\"type\":\"HoverTool\"},{\"attributes\":{\"coordinates\":null,\"group\":null,\"text\":\"Core CPI for All Urban Consumers\",\"text_color\":\"#E0E0E0\",\"text_font\":\"Helvetica\",\"text_font_size\":\"1.15em\"},\"id\":\"7513\",\"type\":\"Title\"},{\"attributes\":{\"line_alpha\":0.2,\"line_color\":\"#1f77b4\",\"line_width\":2,\"x\":{\"field\":\"x\"},\"y\":{\"field\":\"y\"}},\"id\":\"7548\",\"type\":\"Line\"},{\"attributes\":{},\"id\":\"7553\",\"type\":\"BasicTickFormatter\"},{\"attributes\":{\"tools\":[{\"id\":\"7531\"},{\"id\":\"7532\"},{\"id\":\"7533\"},{\"id\":\"7534\"},{\"id\":\"7535\"},{\"id\":\"7536\"},{\"id\":\"7565\"}]},\"id\":\"7538\",\"type\":\"Toolbar\"},{\"attributes\":{\"axis_label_standoff\":10,\"axis_label_text_color\":\"#E0E0E0\",\"axis_label_text_font\":\"Helvetica\",\"axis_label_text_font_size\":\"1.25em\",\"axis_label_text_font_style\":\"normal\",\"axis_line_alpha\":0,\"axis_line_color\":\"#E0E0E0\",\"coordinates\":null,\"formatter\":{\"id\":\"7563\"},\"group\":null,\"major_label_policy\":{\"id\":\"7557\"},\"major_label_text_color\":\"#E0E0E0\",\"major_label_text_font\":\"Helvetica\",\"major_label_text_font_size\":\"1.025em\",\"major_tick_line_alpha\":0,\"major_tick_line_color\":\"#E0E0E0\",\"minor_tick_line_alpha\":0,\"minor_tick_line_color\":\"#E0E0E0\",\"ticker\":{\"id\":\"7524\"}},\"id\":\"7523\",\"type\":\"LinearAxis\"},{\"attributes\":{\"line_alpha\":0.1,\"line_color\":\"#1f77b4\",\"line_width\":2,\"x\":{\"field\":\"x\"},\"y\":{\"field\":\"y\"}},\"id\":\"7547\",\"type\":\"Line\"},{\"attributes\":{},\"id\":\"7554\",\"type\":\"AllLabels\"},{\"attributes\":{\"source\":{\"id\":\"7545\"}},\"id\":\"7550\",\"type\":\"CDSView\"},{\"attributes\":{\"bottom_units\":\"screen\",\"coordinates\":null,\"fill_alpha\":0.5,\"fill_color\":\"lightgrey\",\"group\":null,\"left_units\":\"screen\",\"level\":\"overlay\",\"line_alpha\":1.0,\"line_color\":\"black\",\"line_dash\":[4,4],\"line_width\":2,\"right_units\":\"screen\",\"syncable\":false,\"top_units\":\"screen\"},\"id\":\"7537\",\"type\":\"BoxAnnotation\"},{\"attributes\":{\"coordinates\":null,\"data_source\":{\"id\":\"7545\"},\"glyph\":{\"id\":\"7546\"},\"group\":null,\"hover_glyph\":null,\"muted_glyph\":{\"id\":\"7548\"},\"nonselection_glyph\":{\"id\":\"7547\"},\"view\":{\"id\":\"7550\"}},\"id\":\"7549\",\"type\":\"GlyphRenderer\"},{\"attributes\":{},\"id\":\"7521\",\"type\":\"LinearScale\"},{\"attributes\":{},\"id\":\"7532\",\"type\":\"WheelZoomTool\"},{\"attributes\":{\"background_fill_alpha\":0.25,\"background_fill_color\":\"#20262B\",\"border_line_alpha\":0,\"coordinates\":null,\"glyph_width\":15,\"group\":null,\"items\":[{\"id\":\"7562\"}],\"label_standoff\":8,\"label_text_color\":\"#E0E0E0\",\"label_text_font\":\"Helvetica\",\"label_text_font_size\":\"1.025em\",\"spacing\":8},\"id\":\"7561\",\"type\":\"Legend\"},{\"attributes\":{},\"id\":\"7536\",\"type\":\"HelpTool\"},{\"attributes\":{},\"id\":\"7557\",\"type\":\"AllLabels\"},{\"attributes\":{},\"id\":\"7519\",\"type\":\"LinearScale\"},{\"attributes\":{\"axis\":{\"id\":\"7523\"},\"coordinates\":null,\"grid_line_alpha\":0.25,\"grid_line_color\":\"#E0E0E0\",\"group\":null,\"ticker\":null},\"id\":\"7526\",\"type\":\"Grid\"},{\"attributes\":{},\"id\":\"7534\",\"type\":\"SaveTool\"},{\"attributes\":{\"label\":{\"value\":\"Core CPI\"},\"renderers\":[{\"id\":\"7549\"}]},\"id\":\"7562\",\"type\":\"LegendItem\"},{\"attributes\":{\"overlay\":{\"id\":\"7537\"}},\"id\":\"7533\",\"type\":\"BoxZoomTool\"},{\"attributes\":{},\"id\":\"7535\",\"type\":\"ResetTool\"},{\"attributes\":{},\"id\":\"7524\",\"type\":\"BasicTicker\"},{\"attributes\":{\"line_color\":\"#1f77b4\",\"line_width\":2,\"x\":{\"field\":\"x\"},\"y\":{\"field\":\"y\"}},\"id\":\"7546\",\"type\":\"Line\"},{\"attributes\":{\"axis\":{\"id\":\"7527\"},\"coordinates\":null,\"dimension\":1,\"grid_line_alpha\":0.25,\"grid_line_color\":\"#E0E0E0\",\"group\":null,\"ticker\":null},\"id\":\"7530\",\"type\":\"Grid\"}],\"root_ids\":[\"7512\"]},\"title\":\"Bokeh Application\",\"version\":\"2.4.1\"}};\n  const render_items = [{\"docid\":\"9620bf6f-4901-4a3f-8116-6889eec6df57\",\"root_ids\":[\"7512\"],\"roots\":{\"7512\":\"0431d65e-a331-4f38-8bb7-2dbc6c35de00\"}}];\n  root.Bokeh.embed.embed_items_notebook(docs_json, render_items);\n\n  }\n  if (root.Bokeh !== undefined) {\n    embed_document(root);\n  } else {\n    let attempts = 0;\n    const timer = setInterval(function(root) {\n      if (root.Bokeh !== undefined) {\n        clearInterval(timer);\n        embed_document(root);\n      } else {\n        attempts++;\n        if (attempts > 100) {\n          clearInterval(timer);\n          console.log(\"Bokeh: ERROR: Unable to run BokehJS code because BokehJS library is missing\");\n        }\n      }\n    }, 10, root)\n  }\n})(window);",
      "application/vnd.bokehjs_exec.v0+json": ""
     },
     "metadata": {
      "application/vnd.bokehjs_exec.v0+json": {
       "id": "7512"
      }
     },
     "output_type": "display_data"
    }
   ],
   "source": [
    "p = figure(\n",
    "    title=\"Core CPI for All Urban Consumers\", \n",
    "    y_axis_label=\"Index, 1982-84=100\", \n",
    "    #x_axis_label=\"t\",\n",
    "    sizing_mode=\"stretch_width\",\n",
    "    height=300\n",
    "    )\n",
    "p.line(x = y.index, y=y, legend_label=\"Core CPI\", line_width=2)\n",
    "p.xaxis.formatter = DatetimeTickFormatter(\n",
    "    days = ['%b %d, %Y'],\n",
    "    months = ['%b %Y'],\n",
    "    years = ['%Y']\n",
    "    )\n",
    "p.add_tools(HoverTool(\n",
    "    tooltips=\"@x{%b %d, %Y}: @y\",\n",
    "    formatters={'@x': 'datetime'},\n",
    "    mode='vline'\n",
    "))\n",
    "\n",
    "show(p)"
   ]
  },
  {
   "cell_type": "code",
   "execution_count": 74,
   "metadata": {},
   "outputs": [
    {
     "data": {
      "text/html": [
       "\n",
       "\n",
       "\n",
       "\n",
       "\n",
       "\n",
       "  <div class=\"bk-root\" id=\"a834b68a-3f9c-4089-83b6-c96f9c741c73\" data-root-id=\"11813\"></div>\n"
      ]
     },
     "metadata": {},
     "output_type": "display_data"
    },
    {
     "data": {
      "application/javascript": "(function(root) {\n  function embed_document(root) {\n    \n  const docs_json = {\"3215cdc0-ba65-432d-9f1a-b7fb5176f56d\":{\"defs\":[],\"roots\":{\"references\":[{\"attributes\":{\"background_fill_color\":\"#20262B\",\"below\":[{\"id\":\"11824\"}],\"border_fill_color\":\"#15191C\",\"center\":[{\"id\":\"11827\"},{\"id\":\"11831\"}],\"left\":[{\"id\":\"11828\"}],\"outline_line_alpha\":0.25,\"outline_line_color\":\"#E0E0E0\",\"renderers\":[{\"id\":\"11850\"}],\"title\":{\"id\":\"11814\"},\"toolbar\":{\"id\":\"11839\"},\"x_range\":{\"id\":\"11816\"},\"x_scale\":{\"id\":\"11820\"},\"y_range\":{\"id\":\"11818\"},\"y_scale\":{\"id\":\"11822\"}},\"id\":\"11813\",\"subtype\":\"Figure\",\"type\":\"Plot\"},{\"attributes\":{\"axis\":{\"id\":\"11824\"},\"coordinates\":null,\"grid_line_alpha\":0.25,\"grid_line_color\":\"#E0E0E0\",\"group\":null,\"ticker\":null},\"id\":\"11827\",\"type\":\"Grid\"},{\"attributes\":{\"data\":{\"left\":{\"__ndarray__\":\"AETyFm7Icr+aPR6hAs1mv2bmryhSElC/0Fy54cHqSj+aoTQFin5lPwB2/cgxIXI/NJtgjx6DeT8z4OGqhXKAP81yEw58I4Q/ZgVFcXLUhz8=\",\"dtype\":\"float64\",\"order\":\"little\",\"shape\":[10]},\"right\":{\"__ndarray__\":\"mj0eoQLNZr9m5q8oUhJQv9BcueHB6ko/mqE0BYp+ZT8Adv3IMSFyPzSbYI8eg3k/M+DhqoVygD/NchMOfCOEP2YFRXFy1Ic/AJh21GiFiz8=\",\"dtype\":\"float64\",\"order\":\"little\",\"shape\":[10]},\"top\":[5,28,162,185,202,104,45,25,9,11]},\"selected\":{\"id\":\"12211\"},\"selection_policy\":{\"id\":\"12210\"}},\"id\":\"11846\",\"type\":\"ColumnDataSource\"},{\"attributes\":{\"bottom_units\":\"screen\",\"coordinates\":null,\"fill_alpha\":0.5,\"fill_color\":\"lightgrey\",\"group\":null,\"left_units\":\"screen\",\"level\":\"overlay\",\"line_alpha\":1.0,\"line_color\":\"black\",\"line_dash\":[4,4],\"line_width\":2,\"right_units\":\"screen\",\"syncable\":false,\"top_units\":\"screen\"},\"id\":\"11838\",\"type\":\"BoxAnnotation\"},{\"attributes\":{},\"id\":\"11832\",\"type\":\"PanTool\"},{\"attributes\":{\"coordinates\":null,\"data_source\":{\"id\":\"11846\"},\"glyph\":{\"id\":\"11847\"},\"group\":null,\"hover_glyph\":null,\"muted_glyph\":{\"id\":\"11849\"},\"nonselection_glyph\":{\"id\":\"11848\"},\"view\":{\"id\":\"11851\"}},\"id\":\"11850\",\"type\":\"GlyphRenderer\"},{\"attributes\":{},\"id\":\"11816\",\"type\":\"DataRange1d\"},{\"attributes\":{},\"id\":\"12210\",\"type\":\"UnionRenderers\"},{\"attributes\":{},\"id\":\"11837\",\"type\":\"HelpTool\"},{\"attributes\":{},\"id\":\"12211\",\"type\":\"Selection\"},{\"attributes\":{},\"id\":\"11833\",\"type\":\"WheelZoomTool\"},{\"attributes\":{\"axis\":{\"id\":\"11828\"},\"coordinates\":null,\"dimension\":1,\"grid_line_alpha\":0.25,\"grid_line_color\":\"#E0E0E0\",\"group\":null,\"ticker\":null},\"id\":\"11831\",\"type\":\"Grid\"},{\"attributes\":{\"axis_label_standoff\":10,\"axis_label_text_color\":\"#E0E0E0\",\"axis_label_text_font\":\"Helvetica\",\"axis_label_text_font_size\":\"1.25em\",\"axis_label_text_font_style\":\"normal\",\"axis_line_alpha\":0,\"axis_line_color\":\"#E0E0E0\",\"coordinates\":null,\"formatter\":{\"id\":\"12205\"},\"group\":null,\"major_label_policy\":{\"id\":\"12206\"},\"major_label_text_color\":\"#E0E0E0\",\"major_label_text_font\":\"Helvetica\",\"major_label_text_font_size\":\"1.025em\",\"major_tick_line_alpha\":0,\"major_tick_line_color\":\"#E0E0E0\",\"minor_tick_line_alpha\":0,\"minor_tick_line_color\":\"#E0E0E0\",\"ticker\":{\"id\":\"11829\"}},\"id\":\"11828\",\"type\":\"LinearAxis\"},{\"attributes\":{\"bottom\":{\"value\":0},\"fill_alpha\":{\"value\":0.6},\"fill_color\":{\"value\":\"#1f77b4\"},\"hatch_alpha\":{\"value\":0.6},\"left\":{\"field\":\"left\"},\"line_alpha\":{\"value\":0.6},\"line_color\":{\"value\":\"white\"},\"right\":{\"field\":\"right\"},\"top\":{\"field\":\"top\"}},\"id\":\"11847\",\"type\":\"Quad\"},{\"attributes\":{},\"id\":\"11829\",\"type\":\"BasicTicker\"},{\"attributes\":{},\"id\":\"11822\",\"type\":\"LinearScale\"},{\"attributes\":{},\"id\":\"11818\",\"type\":\"DataRange1d\"},{\"attributes\":{},\"id\":\"11820\",\"type\":\"LinearScale\"},{\"attributes\":{\"tools\":[{\"id\":\"11832\"},{\"id\":\"11833\"},{\"id\":\"11834\"},{\"id\":\"11835\"},{\"id\":\"11836\"},{\"id\":\"11837\"}]},\"id\":\"11839\",\"type\":\"Toolbar\"},{\"attributes\":{\"source\":{\"id\":\"11846\"}},\"id\":\"11851\",\"type\":\"CDSView\"},{\"attributes\":{\"coordinates\":null,\"group\":null,\"text\":\"Histogram\",\"text_color\":\"#E0E0E0\",\"text_font\":\"Helvetica\",\"text_font_size\":\"1.15em\"},\"id\":\"11814\",\"type\":\"Title\"},{\"attributes\":{},\"id\":\"12205\",\"type\":\"BasicTickFormatter\"},{\"attributes\":{},\"id\":\"11825\",\"type\":\"BasicTicker\"},{\"attributes\":{\"axis_label_standoff\":10,\"axis_label_text_color\":\"#E0E0E0\",\"axis_label_text_font\":\"Helvetica\",\"axis_label_text_font_size\":\"1.25em\",\"axis_label_text_font_style\":\"normal\",\"axis_line_alpha\":0,\"axis_line_color\":\"#E0E0E0\",\"coordinates\":null,\"formatter\":{\"id\":\"12208\"},\"group\":null,\"major_label_policy\":{\"id\":\"12209\"},\"major_label_text_color\":\"#E0E0E0\",\"major_label_text_font\":\"Helvetica\",\"major_label_text_font_size\":\"1.025em\",\"major_tick_line_alpha\":0,\"major_tick_line_color\":\"#E0E0E0\",\"minor_tick_line_alpha\":0,\"minor_tick_line_color\":\"#E0E0E0\",\"ticker\":{\"id\":\"11825\"}},\"id\":\"11824\",\"type\":\"LinearAxis\"},{\"attributes\":{},\"id\":\"11835\",\"type\":\"SaveTool\"},{\"attributes\":{},\"id\":\"12206\",\"type\":\"AllLabels\"},{\"attributes\":{\"overlay\":{\"id\":\"11838\"}},\"id\":\"11834\",\"type\":\"BoxZoomTool\"},{\"attributes\":{},\"id\":\"12208\",\"type\":\"BasicTickFormatter\"},{\"attributes\":{},\"id\":\"11836\",\"type\":\"ResetTool\"},{\"attributes\":{\"bottom\":{\"value\":0},\"fill_alpha\":{\"value\":0.1},\"fill_color\":{\"value\":\"#1f77b4\"},\"hatch_alpha\":{\"value\":0.1},\"left\":{\"field\":\"left\"},\"line_alpha\":{\"value\":0.1},\"line_color\":{\"value\":\"white\"},\"right\":{\"field\":\"right\"},\"top\":{\"field\":\"top\"}},\"id\":\"11848\",\"type\":\"Quad\"},{\"attributes\":{},\"id\":\"12209\",\"type\":\"AllLabels\"},{\"attributes\":{\"bottom\":{\"value\":0},\"fill_alpha\":{\"value\":0.2},\"fill_color\":{\"value\":\"#1f77b4\"},\"hatch_alpha\":{\"value\":0.2},\"left\":{\"field\":\"left\"},\"line_alpha\":{\"value\":0.2},\"line_color\":{\"value\":\"white\"},\"right\":{\"field\":\"right\"},\"top\":{\"field\":\"top\"}},\"id\":\"11849\",\"type\":\"Quad\"}],\"root_ids\":[\"11813\"]},\"title\":\"Bokeh Application\",\"version\":\"2.4.1\"}};\n  const render_items = [{\"docid\":\"3215cdc0-ba65-432d-9f1a-b7fb5176f56d\",\"root_ids\":[\"11813\"],\"roots\":{\"11813\":\"a834b68a-3f9c-4089-83b6-c96f9c741c73\"}}];\n  root.Bokeh.embed.embed_items_notebook(docs_json, render_items);\n\n  }\n  if (root.Bokeh !== undefined) {\n    embed_document(root);\n  } else {\n    let attempts = 0;\n    const timer = setInterval(function(root) {\n      if (root.Bokeh !== undefined) {\n        clearInterval(timer);\n        embed_document(root);\n      } else {\n        attempts++;\n        if (attempts > 100) {\n          clearInterval(timer);\n          console.log(\"Bokeh: ERROR: Unable to run BokehJS code because BokehJS library is missing\");\n        }\n      }\n    }, 10, root)\n  }\n})(window);",
      "application/vnd.bokehjs_exec.v0+json": ""
     },
     "metadata": {
      "application/vnd.bokehjs_exec.v0+json": {
       "id": "11813"
      }
     },
     "output_type": "display_data"
    }
   ],
   "source": [
    "hist, edges = np.histogram(np.log(y).diff().dropna())\n",
    "p = figure(title=\"Histogram\")\n",
    "p.quad(\n",
    "    top=hist,\n",
    "    bottom=0,\n",
    "    left=edges[:-1],\n",
    "    right=edges[1:],\n",
    "    line_color=\"white\",\n",
    "    alpha=0.6\n",
    "    )\n",
    "\n",
    "show(p)"
   ]
  },
  {
   "cell_type": "code",
   "execution_count": 28,
   "metadata": {},
   "outputs": [
    {
     "data": {
      "text/plain": [
       "DatetimeIndex(['1957-01-01', '1957-02-01', '1957-03-01', '1957-04-01',\n",
       "               '1957-05-01', '1957-06-01', '1957-07-01', '1957-08-01',\n",
       "               '1957-09-01', '1957-10-01',\n",
       "               ...\n",
       "               '2020-12-01', '2021-01-01', '2021-02-01', '2021-03-01',\n",
       "               '2021-04-01', '2021-05-01', '2021-06-01', '2021-07-01',\n",
       "               '2021-08-01', '2021-09-01'],\n",
       "              dtype='datetime64[ns]', length=777, freq=None)"
      ]
     },
     "execution_count": 28,
     "metadata": {},
     "output_type": "execute_result"
    }
   ],
   "source": [
    "def hist_plot(y):\n",
    "    p = figure(title=\"Histogram\")\n",
    "    \n",
    "def make_plot(title, hist, edges, x, pdf, cdf):\n",
    "    p = figure(title=title, tools='', background_fill_color=\"#fafafa\")\n",
    "    p.quad(top=hist, bottom=0, left=edges[:-1], right=edges[1:],\n",
    "           fill_color=\"navy\", line_color=\"white\", alpha=0.5)\n",
    "    p.line(x, pdf, line_color=\"#ff8888\", line_width=4, alpha=0.7, legend_label=\"PDF\")\n",
    "    p.line(x, cdf, line_color=\"orange\", line_width=2, alpha=0.7, legend_label=\"CDF\")\n",
    "\n",
    "    p.y_range.start = 0\n",
    "    p.legend.location = \"center_right\"\n",
    "    p.legend.background_fill_color = \"#fefefe\"\n",
    "    p.xaxis.axis_label = 'x'\n",
    "    p.yaxis.axis_label = 'Pr(x)'\n",
    "    p.grid.grid_line_color=\"white\"\n",
    "    return p\n",
    "\n",
    "# Normal Distribution\n",
    "\n",
    "mu, sigma = 0, 0.5\n",
    "\n",
    "measured = np.random.normal(mu, sigma, 1000)\n",
    "hist, edges = np.histogram(measured, density=True, bins=50)\n",
    "\n",
    "x = np.linspace(-2, 2, 1000)\n",
    "pdf = 1/(sigma * np.sqrt(2*np.pi)) * np.exp(-(x-mu)**2 / (2*sigma**2))\n",
    "cdf = (1+scipy.special.erf((x-mu)/np.sqrt(2*sigma**2)))/2\n",
    "\n",
    "p1 = make_plot(\"Normal Distribution (μ=0, σ=0.5)\", hist, edges, x, pdf, cdf)\n",
    "\n",
    "# Log-Normal Distribution\n",
    "\n",
    "mu, sigma = 0, 0.5\n",
    "\n",
    "measured = np.random.lognormal(mu, sigma, 1000)\n",
    "hist, edges = np.histogram(measured, density=True, bins=50)\n",
    "\n",
    "x = np.linspace(0.0001, 8.0, 1000)\n",
    "pdf = 1/(x* sigma * np.sqrt(2*np.pi)) * np.exp(-(np.log(x)-mu)**2 / (2*sigma**2))\n",
    "cdf = (1+scipy.special.erf((np.log(x)-mu)/(np.sqrt(2)*sigma)))/2\n",
    "\n",
    "p2 = make_plot(\"Log Normal Distribution (μ=0, σ=0.5)\", hist, edges, x, pdf, cdf)\n",
    "\n",
    "# Gamma Distribution\n",
    "\n",
    "k, theta = 7.5, 1.0\n",
    "\n",
    "measured = np.random.gamma(k, theta, 1000)\n",
    "hist, edges = np.histogram(measured, density=True, bins=50)\n",
    "\n",
    "x = np.linspace(0.0001, 20.0, 1000)\n",
    "pdf = x**(k-1) * np.exp(-x/theta) / (theta**k * scipy.special.gamma(k))\n",
    "cdf = scipy.special.gammainc(k, x/theta)\n",
    "\n",
    "p3 = make_plot(\"Gamma Distribution (k=7.5, θ=1)\", hist, edges, x, pdf, cdf)\n",
    "\n",
    "# Weibull Distribution\n",
    "\n",
    "lam, k = 1, 1.25\n",
    "measured = lam*(-np.log(np.random.uniform(0, 1, 1000)))**(1/k)\n",
    "hist, edges = np.histogram(measured, density=True, bins=50)\n",
    "\n",
    "x = np.linspace(0.0001, 8, 1000)\n",
    "pdf = (k/lam)*(x/lam)**(k-1) * np.exp(-(x/lam)**k)\n",
    "cdf = 1 - np.exp(-(x/lam)**k)\n",
    "\n",
    "p4 = make_plot(\"Weibull Distribution (λ=1, k=1.25)\", hist, edges, x, pdf, cdf)\n",
    "\n",
    "show(gridplot([p1,p2,p3,p4], ncols=2, width=400, height=400, toolbar_location=None))"
   ]
  },
  {
   "cell_type": "code",
   "execution_count": 68,
   "metadata": {},
   "outputs": [
    {
     "data": {
      "text/plain": [
       "1957-01-01         NaN\n",
       "1957-02-01    0.000000\n",
       "1957-03-01    0.006993\n",
       "1957-04-01    0.003478\n",
       "1957-05-01    0.000000\n",
       "                ...   \n",
       "2021-05-01    0.007002\n",
       "2021-06-01    0.008392\n",
       "2021-07-01    0.003330\n",
       "2021-08-01    0.001292\n",
       "2021-09-01    0.001348\n",
       "Length: 777, dtype: float64"
      ]
     },
     "execution_count": 68,
     "metadata": {},
     "output_type": "execute_result"
    }
   ],
   "source": [
    "np.log(y).diff()"
   ]
  }
 ],
 "metadata": {
  "interpreter": {
   "hash": "5ded3b82d44b7c3c74a2620c1e55325e860f26b28d7376822a74756efb7e3cc3"
  },
  "kernelspec": {
   "display_name": "hrafn",
   "language": "python",
   "name": "hrafn"
  },
  "language_info": {
   "codemirror_mode": {
    "name": "ipython",
    "version": 3
   },
   "file_extension": ".py",
   "mimetype": "text/x-python",
   "name": "python",
   "nbconvert_exporter": "python",
   "pygments_lexer": "ipython3",
   "version": "3.9.8"
  }
 },
 "nbformat": 4,
 "nbformat_minor": 2
}
